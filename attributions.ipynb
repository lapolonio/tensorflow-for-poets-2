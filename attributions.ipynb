{
 "cells": [
  {
   "cell_type": "code",
   "execution_count": 1,
   "metadata": {
    "collapsed": true
   },
   "outputs": [],
   "source": [
    "import numpy as np\n",
    "import PIL.Image\n",
    "import tensorflow as tf\n",
    "\n",
    "from cStringIO import StringIO\n",
    "from IPython.display import  Image, display, HTML\n",
    "from scripts.label_image import *"
   ]
  },
  {
   "cell_type": "code",
   "execution_count": 2,
   "metadata": {
    "collapsed": true
   },
   "outputs": [],
   "source": [
    "MODEL_LOC=\"tf_files/retrained_graph.pb\"\n",
    "LABELS_LOC=\"tf_files/retrained_labels.txt\"\n",
    "def load_model():\n",
    "  '''Loads the Inception (v1) model and creates a TensorFlow session\n",
    "     for it.\n",
    "  '''\n",
    "  graph = tf.Graph()\n",
    "  cfg = tf.ConfigProto(gpu_options={'allow_growth':True})\n",
    "  sess = tf.InteractiveSession(graph=graph, config=cfg)\n",
    "  graph_def = tf.GraphDef.FromString(open(MODEL_LOC).read())\n",
    "  tf.import_graph_def(graph_def)\n",
    "  return sess, graph\n",
    "\n",
    "def T(layer):\n",
    "  '''Helper for getting layer output tensor'''\n",
    "  return graph.get_tensor_by_name(\"import/%s:0\"%layer)\n",
    "\n",
    "def run_network(sess, tensor, images, target_shape):\n",
    "  '''Helper for evaluating a tensor on a bunch of images\n",
    "     within a session.\n",
    "  '''\n",
    "  imagenet_mean = 117.0\n",
    "  processed = np.zeros(shape=target_shape)\n",
    "  for index, img  in enumerate(images):\n",
    "    score = sess.run(tensor, {'import/input:0': [img]})\n",
    "    processed[index] = score\n",
    "  return processed\n",
    "\n",
    "def top_label_and_score(img):\n",
    "  '''Returns the label and score of the object class\n",
    "     that receives the highest SOFTMAX score.\n",
    "\n",
    "     The provided image must of shape (224, 224, 3)\n",
    "  '''\n",
    "  # Evaluate the SOFTMAX output layer for the image and\n",
    "  # determine the label for the highest-scoring class\n",
    "  t_softmax = tf.reduce_mean(T('final_result'), reduction_indices=0)\n",
    "  scores = run_network(sess, t_softmax, [img], [1,2])\n",
    "  id = np.argmax(scores, axis=1)[0]\n",
    "  return labels[id], scores[0][id]\n",
    "\n",
    "def output_label_tensor(label):\n",
    "  '''Returns a tensor (shape: scalar) representing the SOFTMAX\n",
    "     for a given label.\n",
    "  '''\n",
    "  lab_index = np.where(np.in1d(labels, [label]))[0][0]\n",
    "  t_softmax = tf.reduce_sum(T('final_result'), reduction_indices=0)\n",
    "  return t_softmax[lab_index]\n",
    "\n",
    "def gradients(img, label):\n",
    "  '''Returns attributions for the prediction label based\n",
    "     on just the gradients at the image.\n",
    "\n",
    "     Specifically, the method returns the dot product of the image\n",
    "     and the gradients of the provided prediction label (w.r.t. the\n",
    "     image).\n",
    "\n",
    "     The provided image must of shape (224, 224, 3), which is\n",
    "     also the shape of the returned attributions tensor.\n",
    "  '''\n",
    "  t_output = output_label_tensor(label)  # shape: scalar\n",
    "  t_grad = tf.gradients(t_output, T('input'))[0]\n",
    "  grads = run_network(sess, t_grad, [img], [1, 224, 224, 3])\n",
    "  return img*grads[0]\n",
    "\n",
    "def integrated_gradients(img, label, steps=50):\n",
    "  '''Returns attributions for the prediction label based\n",
    "     on integrated gradients at the image.\n",
    "\n",
    "     Specifically, the method returns the dot product of the image\n",
    "     and the average of the gradients of the prediction label (w.r.t.\n",
    "     the image) at uniformly spaced scalings of the provided image.\n",
    "\n",
    "     The provided image must of shape (224, 224, 3), which is\n",
    "     also the shape of the returned attributions tensor.\n",
    "  '''\n",
    "  t_output = output_label_tensor(label)  # shape: scalar\n",
    "  t_grad = tf.gradients(t_output, T('input'))[0]\n",
    "  scaled_images = [(float(i)/steps)*img for i in range(1, steps+1)]\n",
    "  # Compute the gradients of the scaled images\n",
    "  grads = run_network(sess, t_grad, scaled_images, [steps, 224, 224, 3])\n",
    "  return img*np.average(grads, axis=0)\n",
    "\n",
    "def pil_img(a):\n",
    "  '''Returns a PIL image created from the provided RGB array.\n",
    "  '''\n",
    "  a = np.uint8(a)\n",
    "  return PIL.Image.fromarray(a, mode='RGB')\n",
    "\n",
    "def show_img(img, fmt='jpeg'):\n",
    "  '''Displays the provided PIL image\n",
    "  '''\n",
    "  f = StringIO()\n",
    "  img.save(f, fmt)\n",
    "  display(Image(data=f.getvalue()))\n",
    "\n",
    "def gray_scale(img):\n",
    "  '''Converts the provided RGB image to gray scale.\n",
    "  '''\n",
    "  img = np.average(img, axis=2)\n",
    "  return np.transpose([img, img, img], axes=[1,2,0])\n",
    "\n",
    "def normalize(attrs, ptile=99):\n",
    "  '''Normalize the provided attributions so that they fall between\n",
    "     -1.0 and 1.0.\n",
    "  '''\n",
    "  h = np.percentile(attrs, ptile)\n",
    "  l = np.percentile(attrs, 100-ptile)\n",
    "  return np.clip(attrs/max(abs(h), abs(l)), -1.0, 1.0)    \n",
    "      \n",
    "def visualize_attrs_windowing(img, attrs, ptile=99):\n",
    "   '''Visaualizes the provided attributions by first aggregating them\n",
    "      along the color channel to obtain per-pixel attributions and then\n",
    "      scaling the intensities of the pixels in the original image in\n",
    "      proportion to absolute value of these attributions.\n",
    "\n",
    "      The provided image and attributions must of shape (224, 224, 3).\n",
    "   '''\n",
    "   attrs = gray_scale(attrs)\n",
    "   attrs = abs(attrs)\n",
    "   attrs = np.clip(attrs/np.percentile(attrs, ptile), 0,1)\n",
    "   vis = img*attrs\n",
    "   show_img(pil_img(vis))\n",
    "  \n",
    "R=np.array([255,0,0])\n",
    "G=np.array([0,255,0])\n",
    "B=np.array([0,0,255])\n",
    "def visualize_attrs_overlay(img, attrs, pos_ch=G, neg_ch=R, ptile=99):\n",
    "  '''Visaualizes the provided attributions by first aggregating them\n",
    "     along the color channel and then overlaying the positive attributions\n",
    "     along pos_ch, and negative attributions along neg_ch.\n",
    "\n",
    "     The provided image and attributions must of shape (224, 224, 3).\n",
    "  '''\n",
    "  attrs = gray_scale(attrs)\n",
    "  attrs = normalize(attrs, ptile)   \n",
    "  pos_attrs = attrs * (attrs >= 0.0)\n",
    "  neg_attrs = -1.0 * attrs * (attrs < 0.0)\n",
    "  attrs_mask = pos_attrs*pos_ch + neg_attrs*neg_ch\n",
    "  vis = 0.3*gray_scale(img) + 0.7*attrs_mask\n",
    "  show_img(pil_img(vis))\n"
   ]
  },
  {
   "cell_type": "code",
   "execution_count": 3,
   "metadata": {},
   "outputs": [
    {
     "data": {
      "image/jpeg": "[encoded data removed]",
      "text/plain": [
       "<IPython.core.display.Image object>"
      ]
     },
     "metadata": {},
     "output_type": "display_data"
    }
   ],
   "source": [
    "# Load the Inception model.\n",
    "sess, graph = load_model()\n",
    "\n",
    "# Load the labels vocabulary.\n",
    "labels = np.array(open(LABELS_LOC).read().split('\\n'))\n",
    "\n",
    "# Load the image.\n",
    "input_height = 224\n",
    "input_width = 224\n",
    "input_mean = 128\n",
    "input_std = 128\n",
    "\n",
    "# img_name = 'test_ibm_task/boat/81399403_091c9add8c.thumbnail' # not clear if boat\n",
    "# img_name = 'test_ibm_task/boat/9789622_3b2d34544f.thumbnail' # not clear if boat\n",
    "# img_name = 'ibm_task/cloud/132903500_6eea14aeba.thumbnail'\n",
    "# img_name = 'ibm_task/cloud/108627392_7ce18e6df7.thumbnail' # clean\n",
    "# img_name = 'ibm_task/cloud/10984661_7e3e4e1f7b.thumbnail'\n",
    "# img_name = 'ibm_task/boat/29804972_86231ac125.thumbnail' # clean\n",
    "# img_name = 'ibm_task/boat/119241230_cb5f863f56.thumbnail' # clean \n",
    "img_name = 'ibm_task/cloud/136859909_93b0399a0b.thumbnail' # clean\n",
    "\n",
    "file_name = 'tf_files/' + img_name\n",
    "img = read_tensor_from_image_file(file_name,\n",
    "                              input_height=input_height,\n",
    "                              input_width=input_width,\n",
    "                              input_mean=input_mean,\n",
    "                              input_std=input_std)[0]\n",
    "with open(file_name) as f:\n",
    "  image_read = f.read()\n",
    "  image_reader = tf.image.decode_jpeg(image_read)\n",
    "  float_caster = tf.cast(image_reader, tf.float32)\n",
    "  dims_expander = tf.expand_dims(float_caster, 0);\n",
    "  resized = tf.image.resize_bilinear(dims_expander, [input_height, input_width])\n",
    "  display_image = sess.run(resized)[0]\n",
    "  \n",
    "show_img(pil_img(display_image))"
   ]
  },
  {
   "cell_type": "code",
   "execution_count": 4,
   "metadata": {
    "scrolled": true
   },
   "outputs": [
    {
     "name": "stdout",
     "output_type": "stream",
     "text": [
      "Top label: cloud, score: 0.999999\n",
      "Gradients at the Image\n"
     ]
    },
    {
     "data": {
      "image/jpeg": "[encoded data removed]",
      "text/plain": [
       "<IPython.core.display.Image object>"
      ]
     },
     "metadata": {},
     "output_type": "display_data"
    },
    {
     "name": "stdout",
     "output_type": "stream",
     "text": [
      "(224, 224, 3)\n",
      "Integrated gradients\n"
     ]
    },
    {
     "data": {
      "image/jpeg": "[encoded data removed]",
      "text/plain": [
       "<IPython.core.display.Image object>"
      ]
     },
     "metadata": {},
     "output_type": "display_data"
    }
   ],
   "source": [
    "# Determine top label and score.\n",
    "top_label, score = top_label_and_score(img)\n",
    "print \"Top label: %s, score: %f\" % (top_label, score)\n",
    "\n",
    "# Compute attributions based on just the gradients.\n",
    "grads_attrs = gradients(img, top_label)\n",
    "print \"Gradients at the Image\"\n",
    "visualize_attrs_windowing(display_image, grads_attrs)\n",
    "\n",
    "print(img.shape)\n",
    "\n",
    "# Compute attributions based on the integrated gradients\n",
    "# method.\n",
    "intgrads_attrs = integrated_gradients(img, top_label)\n",
    "print \"Integrated gradients\"\n",
    "visualize_attrs_windowing(display_image, intgrads_attrs)"
   ]
  },
  {
   "cell_type": "code",
   "execution_count": 5,
   "metadata": {},
   "outputs": [
    {
     "data": {
      "image/jpeg": "[encoded data removed]",
      "text/plain": [
       "<IPython.core.display.Image object>"
      ]
     },
     "metadata": {},
     "output_type": "display_data"
    }
   ],
   "source": [
    "# Exploring overlay visualization\n",
    "visualize_attrs_overlay(display_image, intgrads_attrs)"
   ]
  },
  {
   "cell_type": "code",
   "execution_count": 6,
   "metadata": {},
   "outputs": [
    {
     "name": "stdout",
     "output_type": "stream",
     "text": [
      "Top label: cloud, score: 0.999090\n"
     ]
    }
   ],
   "source": [
    "# TODO: Find all misclassifications and determine inspect error\n",
    "\n",
    "with open('tf_files/test_ibm_task/boat/81399403_091c9add8c.thumbnail') as f:\n",
    "  img = f.read()\n",
    "  image_reader = tf.image.decode_jpeg(img)\n",
    "  float_caster = tf.cast(image_reader, tf.float32)\n",
    "  dims_expander = tf.expand_dims(float_caster, 0);\n",
    "  resized = tf.image.resize_bilinear(dims_expander, [224, 224])\n",
    "  img = sess.run(resized)\n",
    "  img = img[0]\n",
    "\n",
    "top_label, score = top_label_and_score(img)\n",
    "print \"Top label: %s, score: %f\" % (top_label, score)"
   ]
  },
  {
   "cell_type": "code",
   "execution_count": null,
   "metadata": {
    "collapsed": true
   },
   "outputs": [],
   "source": []
  }
 ],
 "metadata": {
  "kernelspec": {
   "display_name": "IBM_env",
   "language": "python",
   "name": "ibm_env"
  },
  "language_info": {
   "codemirror_mode": {
    "name": "ipython",
    "version": 2
   },
   "file_extension": ".py",
   "mimetype": "text/x-python",
   "name": "python",
   "nbconvert_exporter": "python",
   "pygments_lexer": "ipython2",
   "version": "2.7.10"
  }
 },
 "nbformat": 4,
 "nbformat_minor": 2
}
