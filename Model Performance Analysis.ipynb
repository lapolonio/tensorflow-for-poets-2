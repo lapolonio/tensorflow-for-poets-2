{
 "cells": [
  {
   "cell_type": "code",
   "execution_count": 2,
   "metadata": {
    "collapsed": true
   },
   "outputs": [],
   "source": [
    "from scripts.label_image import *"
   ]
  },
  {
   "cell_type": "code",
   "execution_count": 3,
   "metadata": {},
   "outputs": [
    {
     "name": "stdout",
     "output_type": "stream",
     "text": [
      "('train_cloud imgs', 908)\n",
      "('train_boat imgs', 434)\n",
      "('test cloud imgs', 228)\n",
      "('test boat imgs', 109)\n"
     ]
    }
   ],
   "source": [
    "import glob\n",
    "import os\n",
    "\n",
    "train_cloud_imgs = glob.glob(\"tf_files/ibm_task/cloud/*\")\n",
    "print(\"train_cloud imgs\", len(train_cloud_imgs)) \n",
    "train_boat_imgs = glob.glob(\"tf_files/ibm_task/boat/*\")\n",
    "print(\"train_boat imgs\", len(train_boat_imgs)) \n",
    "\n",
    "test_cloud_imgs = glob.glob(\"tf_files/test_ibm_task/cloud/*\")\n",
    "print(\"test cloud imgs\", len(test_cloud_imgs))\n",
    "test_boat_imgs = glob.glob(\"tf_files/test_ibm_task/boat/*\")\n",
    "print(\"test boat imgs\", len(test_boat_imgs))\n"
   ]
  },
  {
   "cell_type": "code",
   "execution_count": 4,
   "metadata": {},
   "outputs": [],
   "source": [
    "model_file = \"tf_files/retrained_graph.pb\"\n",
    "label_file = \"tf_files/retrained_labels.txt\"\n",
    "input_height = 224\n",
    "input_width = 224\n",
    "input_mean = 128\n",
    "input_std = 128\n",
    "input_layer = \"input\"\n",
    "output_layer = \"final_result\"\n",
    "\n",
    "graph = load_graph(model_file)\n",
    "input_name = \"import/\" + input_layer\n",
    "output_name = \"import/\" + output_layer\n",
    "input_operation = graph.get_operation_by_name(input_name);\n",
    "output_operation = graph.get_operation_by_name(output_name);\n",
    "\n",
    "\n",
    "def extract_pred_metadata(imgs, label, pred_list):\n",
    "    for index, file_name in enumerate(imgs):\n",
    "        t = read_tensor_from_image_file(file_name,\n",
    "                                      input_height=input_height,\n",
    "                                      input_width=input_width,\n",
    "                                      input_mean=input_mean,\n",
    "                                      input_std=input_std)\n",
    "\n",
    "        with tf.Session(graph=graph) as sess:\n",
    "            results = sess.run(output_operation.outputs[0],\n",
    "                              {input_operation.outputs[0]: t})\n",
    "            results = np.squeeze(results)\n",
    "\n",
    "        top_k = results.argsort()[-5:][::-1]\n",
    "        labels = load_labels(label_file)\n",
    "        pred_label = ''\n",
    "        if results[1] > results[0]:\n",
    "            pred_label = 'boat'\n",
    "        else:\n",
    "            pred_label = 'cloud'\n",
    "\n",
    "        row = [file_name, label, pred_label, results[1], results[0]]\n",
    "        pred_list.insert(len(pred_list), row)"
   ]
  },
  {
   "cell_type": "code",
   "execution_count": 5,
   "metadata": {
    "collapsed": true
   },
   "outputs": [],
   "source": [
    "# numpy dataframe columns: file_name target_label boat_pred cloud_pred\n",
    "train_model_predictions = []\n",
    "extract_pred_metadata(train_cloud_imgs, 'cloud', train_model_predictions)\n",
    "extract_pred_metadata(train_boat_imgs, 'boat', train_model_predictions)\n",
    "train_model_predictions = np.array(train_model_predictions)"
   ]
  },
  {
   "cell_type": "code",
   "execution_count": 12,
   "metadata": {
    "collapsed": true
   },
   "outputs": [
    {
     "data": {
      "text/plain": [
       "array([['tf_files/ibm_task/cloud/1747079690_cedaaf125f.thumbnail', 'cloud',\n",
       "        'boat', '0.955989', '0.0440109'],\n",
       "       ['tf_files/ibm_task/cloud/2061662363_501a76988a.thumbnail', 'cloud',\n",
       "        'boat', '0.873102', '0.126898'],\n",
       "       ['tf_files/ibm_task/cloud/2226195324_c2bfff0e95.thumbnail', 'cloud',\n",
       "        'boat', '0.984594', '0.0154062'],\n",
       "       ['tf_files/ibm_task/cloud/2236192224_fca95679ed.thumbnail', 'cloud',\n",
       "        'boat', '0.631991', '0.368009'],\n",
       "       ['tf_files/ibm_task/cloud/2640835731_404a5338e9.thumbnail', 'cloud',\n",
       "        'boat', '0.856594', '0.143406'],\n",
       "       ['tf_files/ibm_task/cloud/2826096885_344f999ccd.thumbnail', 'cloud',\n",
       "        'boat', '0.979957', '0.0200431'],\n",
       "       ['tf_files/ibm_task/cloud/2866368449_66de99a9e6.thumbnail', 'cloud',\n",
       "        'boat', '0.565047', '0.434953'],\n",
       "       ['tf_files/ibm_task/cloud/3433202563_9baf94b79f.thumbnail', 'cloud',\n",
       "        'boat', '0.964056', '0.0359436'],\n",
       "       ['tf_files/ibm_task/cloud/344719810_f3406e902b.thumbnail', 'cloud',\n",
       "        'boat', '0.652158', '0.347842'],\n",
       "       ['tf_files/ibm_task/cloud/3517902256_e157ff1817.thumbnail', 'cloud',\n",
       "        'boat', '0.999998', '2.24451e-06'],\n",
       "       ['tf_files/ibm_task/cloud/3714047413_512920c3d3.thumbnail', 'cloud',\n",
       "        'boat', '0.935657', '0.0643428'],\n",
       "       ['tf_files/ibm_task/boat/1610694239_10405450e3.thumbnail', 'boat',\n",
       "        'cloud', '0.0409151', '0.959085'],\n",
       "       ['tf_files/ibm_task/boat/2095211410_d96eda306e.thumbnail', 'boat',\n",
       "        'cloud', '2.21839e-05', '0.999978'],\n",
       "       ['tf_files/ibm_task/boat/2220772141_2a90b22549.thumbnail', 'boat',\n",
       "        'cloud', '0.0702539', '0.929746'],\n",
       "       ['tf_files/ibm_task/boat/2273329291_37e4514e4d.thumbnail', 'boat',\n",
       "        'cloud', '0.0228337', '0.977166'],\n",
       "       ['tf_files/ibm_task/boat/232488683_cff41c6772.thumbnail', 'boat',\n",
       "        'cloud', '0.331958', '0.668042'],\n",
       "       ['tf_files/ibm_task/boat/2385087655_daa856c9d2.thumbnail', 'boat',\n",
       "        'cloud', '0.0361331', '0.963867'],\n",
       "       ['tf_files/ibm_task/boat/245435370_7bf698ee3b.thumbnail', 'boat',\n",
       "        'cloud', '0.00576314', '0.994237'],\n",
       "       ['tf_files/ibm_task/boat/2583446243_45face4ea2.thumbnail', 'boat',\n",
       "        'cloud', '0.000160299', '0.99984'],\n",
       "       ['tf_files/ibm_task/boat/2597710456_15e204d72d.thumbnail', 'boat',\n",
       "        'cloud', '0.478252', '0.521748'],\n",
       "       ['tf_files/ibm_task/boat/366346999_027e473b44.thumbnail', 'boat',\n",
       "        'cloud', '0.0207188', '0.979281']],\n",
       "      dtype='|S72')"
      ]
     },
     "execution_count": 12,
     "metadata": {},
     "output_type": "execute_result"
    }
   ],
   "source": [
    "train_model_predictions[np.where(train_model_predictions[:, 1] != train_model_predictions[:,2])]"
   ]
  },
  {
   "cell_type": "markdown",
   "metadata": {},
   "source": [
    "# Train Misclassified\n",
    "\n",
    "```\n",
    "array([['tf_files/ibm_task/cloud/1747079690_cedaaf125f.thumbnail', 'cloud',\n",
    "        'boat', '0.955989', '0.0440109'],\n",
    "       ['tf_files/ibm_task/cloud/2061662363_501a76988a.thumbnail', 'cloud',\n",
    "        'boat', '0.873102', '0.126898'],\n",
    "       ['tf_files/ibm_task/cloud/2226195324_c2bfff0e95.thumbnail', 'cloud',\n",
    "        'boat', '0.984594', '0.0154062'],\n",
    "       ['tf_files/ibm_task/cloud/2236192224_fca95679ed.thumbnail', 'cloud',\n",
    "        'boat', '0.631991', '0.368009'],\n",
    "       ['tf_files/ibm_task/cloud/2640835731_404a5338e9.thumbnail', 'cloud',\n",
    "        'boat', '0.856594', '0.143406'],\n",
    "       ['tf_files/ibm_task/cloud/2826096885_344f999ccd.thumbnail', 'cloud',\n",
    "        'boat', '0.979957', '0.0200431'],\n",
    "       ['tf_files/ibm_task/cloud/2866368449_66de99a9e6.thumbnail', 'cloud',\n",
    "        'boat', '0.565047', '0.434953'],\n",
    "       ['tf_files/ibm_task/cloud/3433202563_9baf94b79f.thumbnail', 'cloud',\n",
    "        'boat', '0.964056', '0.0359436'],\n",
    "       ['tf_files/ibm_task/cloud/344719810_f3406e902b.thumbnail', 'cloud',\n",
    "        'boat', '0.652158', '0.347842'],\n",
    "       ['tf_files/ibm_task/cloud/3517902256_e157ff1817.thumbnail', 'cloud',\n",
    "        'boat', '0.999998', '2.24451e-06'],\n",
    "       ['tf_files/ibm_task/cloud/3714047413_512920c3d3.thumbnail', 'cloud',\n",
    "        'boat', '0.935657', '0.0643428'],\n",
    "       ['tf_files/ibm_task/boat/1610694239_10405450e3.thumbnail', 'boat',\n",
    "        'cloud', '0.0409151', '0.959085'],\n",
    "       ['tf_files/ibm_task/boat/2095211410_d96eda306e.thumbnail', 'boat',\n",
    "        'cloud', '2.21839e-05', '0.999978'],\n",
    "       ['tf_files/ibm_task/boat/2220772141_2a90b22549.thumbnail', 'boat',\n",
    "        'cloud', '0.0702539', '0.929746'],\n",
    "       ['tf_files/ibm_task/boat/2273329291_37e4514e4d.thumbnail', 'boat',\n",
    "        'cloud', '0.0228337', '0.977166'],\n",
    "       ['tf_files/ibm_task/boat/232488683_cff41c6772.thumbnail', 'boat',\n",
    "        'cloud', '0.331958', '0.668042'],\n",
    "       ['tf_files/ibm_task/boat/2385087655_daa856c9d2.thumbnail', 'boat',\n",
    "        'cloud', '0.0361331', '0.963867'],\n",
    "       ['tf_files/ibm_task/boat/245435370_7bf698ee3b.thumbnail', 'boat',\n",
    "        'cloud', '0.00576314', '0.994237'],\n",
    "       ['tf_files/ibm_task/boat/2583446243_45face4ea2.thumbnail', 'boat',\n",
    "        'cloud', '0.000160299', '0.99984'],\n",
    "       ['tf_files/ibm_task/boat/2597710456_15e204d72d.thumbnail', 'boat',\n",
    "        'cloud', '0.478252', '0.521748'],\n",
    "       ['tf_files/ibm_task/boat/366346999_027e473b44.thumbnail', 'boat',\n",
    "        'cloud', '0.0207188', '0.979281']],\n",
    "      dtype='|S72')\n",
    "```"
   ]
  },
  {
   "cell_type": "code",
   "execution_count": 7,
   "metadata": {},
   "outputs": [
    {
     "name": "stdout",
     "output_type": "stream",
     "text": [
      "Train Accuracy = 0.98435171386\n"
     ]
    }
   ],
   "source": [
    "count_wrong = len(train_model_predictions[np.where(train_model_predictions[:, 1] != train_model_predictions[:,2])])\n",
    "count_total = len(train_model_predictions)\n",
    "print (\"Train Accuracy = \"+ str(1 - float(count_wrong)/count_total))"
   ]
  },
  {
   "cell_type": "code",
   "execution_count": 25,
   "metadata": {
    "collapsed": true
   },
   "outputs": [],
   "source": [
    "test_model_predictions = []\n",
    "extract_pred_metadata(test_cloud_imgs, 'cloud', test_model_predictions)\n",
    "extract_pred_metadata(test_boat_imgs, 'boat', test_model_predictions)\n",
    "test_model_predictions = np.array(test_model_predictions)"
   ]
  },
  {
   "cell_type": "code",
   "execution_count": 8,
   "metadata": {},
   "outputs": [
    {
     "name": "stdout",
     "output_type": "stream",
     "text": [
      "Train Accuracy = 0.976261127596\n"
     ]
    }
   ],
   "source": [
    "test_count_wrong = len(test_model_predictions[np.where(test_model_predictions[:, 1] != test_model_predictions[:,2])])\n",
    "test_count_total = len(test_model_predictions)\n",
    "print (\"Test Accuracy = \"+ str(1 - float(test_count_wrong)/test_count_total))"
   ]
  },
  {
   "cell_type": "code",
   "execution_count": 30,
   "metadata": {},
   "outputs": [
    {
     "data": {
      "text/plain": [
       "array([['tf_files/test_ibm_task/cloud/399439145_ddbd69893f.thumbnail',\n",
       "        'cloud', 'boat', '0.742557', '0.257443'],\n",
       "       ['tf_files/test_ibm_task/cloud/4112004272_c37a766000.thumbnail',\n",
       "        'cloud', 'boat', '0.980462', '0.0195379'],\n",
       "       ['tf_files/test_ibm_task/cloud/4127052185_dd0dc70c94.thumbnail',\n",
       "        'cloud', 'boat', '0.564797', '0.435203'],\n",
       "       ['tf_files/test_ibm_task/cloud/4150420649_c2b310f403.thumbnail',\n",
       "        'cloud', 'boat', '0.9996', '0.000399566'],\n",
       "       ['tf_files/test_ibm_task/boat/492864141_b7dc75ef75.thumbnail',\n",
       "        'boat', 'cloud', '0.434782', '0.565218'],\n",
       "       ['tf_files/test_ibm_task/boat/496195526_eb0bb24e60.thumbnail',\n",
       "        'boat', 'cloud', '2.4338e-05', '0.999976'],\n",
       "       ['tf_files/test_ibm_task/boat/534993068_e56cfec91f.thumbnail',\n",
       "        'boat', 'cloud', '0.164182', '0.835818'],\n",
       "       [ 'tf_files/test_ibm_task/boat/fat-powered-boat-earthrace-01-211207.thumbnail',\n",
       "        'boat', 'cloud', '4.62835e-05', '0.999954']],\n",
       "      dtype='|S75')"
      ]
     },
     "execution_count": 30,
     "metadata": {},
     "output_type": "execute_result"
    }
   ],
   "source": [
    "test_model_predictions[np.where(test_model_predictions[:, 1] != test_model_predictions[:,2])]"
   ]
  },
  {
   "cell_type": "markdown",
   "metadata": {},
   "source": [
    "# Test Misclassified\n",
    "\n",
    "```\n",
    "array([['tf_files/test_ibm_task/cloud/399439145_ddbd69893f.thumbnail',\n",
    "        'cloud', 'boat', '0.742557', '0.257443'],\n",
    "       ['tf_files/test_ibm_task/cloud/4112004272_c37a766000.thumbnail',\n",
    "        'cloud', 'boat', '0.980462', '0.0195379'],\n",
    "       ['tf_files/test_ibm_task/cloud/4127052185_dd0dc70c94.thumbnail',\n",
    "        'cloud', 'boat', '0.564797', '0.435203'],\n",
    "       ['tf_files/test_ibm_task/cloud/4150420649_c2b310f403.thumbnail',\n",
    "        'cloud', 'boat', '0.9996', '0.000399566'],\n",
    "       ['tf_files/test_ibm_task/boat/492864141_b7dc75ef75.thumbnail',\n",
    "        'boat', 'cloud', '0.434782', '0.565218'],\n",
    "       ['tf_files/test_ibm_task/boat/496195526_eb0bb24e60.thumbnail',\n",
    "        'boat', 'cloud', '2.4338e-05', '0.999976'],\n",
    "       ['tf_files/test_ibm_task/boat/534993068_e56cfec91f.thumbnail',\n",
    "        'boat', 'cloud', '0.164182', '0.835818'],\n",
    "       [ 'tf_files/test_ibm_task/boat/fat-powered-boat-earthrace-01-211207.thumbnail',\n",
    "        'boat', 'cloud', '4.62835e-05', '0.999954']],\n",
    "      dtype='|S75')\n",
    "```"
   ]
  },
  {
   "cell_type": "markdown",
   "metadata": {},
   "source": [
    "Test Accuracy = 0.976261127596\n",
    "Train Accuracy = 0.98435171386"
   ]
  },
  {
   "cell_type": "code",
   "execution_count": null,
   "metadata": {
    "collapsed": true
   },
   "outputs": [],
   "source": []
  }
 ],
 "metadata": {
  "kernelspec": {
   "display_name": "Python 2",
   "language": "python",
   "name": "python2"
  },
  "language_info": {
   "codemirror_mode": {
    "name": "ipython",
    "version": 2
   },
   "file_extension": ".py",
   "mimetype": "text/x-python",
   "name": "python",
   "nbconvert_exporter": "python",
   "pygments_lexer": "ipython2",
   "version": "2.7.13"
  }
 },
 "nbformat": 4,
 "nbformat_minor": 2
}
